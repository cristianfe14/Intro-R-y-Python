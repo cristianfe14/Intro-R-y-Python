{
 "cells": [
  {
   "cell_type": "markdown",
   "metadata": {},
   "source": [
    "# Utilizando Kernels en JupyterLab\n",
    "\n",
    "¿Alguna vez te has preguntado si sería posible usar las posibilidades de Julia, Python y R en un sólo entorno gráfico estilo Notebook?\n",
    "\n",
    "\n",
    "**<center>¡Es posible!</center>**\n",
    "\n",
    "Para esto es necesario el concepto de Kernel e implementarlo en JupyterLab a través de Anaconda.\n",
    "\n",
    "El Objetivo de este cuaderno será lograr lo que se muestra a continuación cuando se inicialize JupyterLab:\n",
    "\n",
    "<img src=\"https://github.com/ucmadcursoPythonyR/2020/blob/master/images/kernels.png?raw=true\" />"
   ]
  },
  {
   "cell_type": "markdown",
   "metadata": {},
   "source": [
    "# Requisitos:\n",
    "\n",
    "- Tener instalada una versión de **R** (versión acutal 3.6.2)\n",
    "\n",
    "- Descargar una versión de **JuliaPro** (Julia en consola no funciona, hay problemas de incompatibilidad del hash actual <a href=\"https://github.com/JuliaPackaging/BinaryBuilder.jl/issues/527\"> aquí</a>).\n"
   ]
  },
  {
   "cell_type": "markdown",
   "metadata": {},
   "source": [
    "# Instalación de IR\n",
    "\n",
    "Para comenzar, iniciamos el **Prompt** de Anaconda a modo **Administrador**.\n",
    "\n",
    "Ir a la ruta donde se encuentra instalado R usando comillas dobles.\n",
    "\n",
    "**Ejemplo:**\n",
    "\n",
    "- ```\"C:\\Program Files\\R\\R-3.6.2\\bin\\x64\\R.exe\"```\n",
    "\n",
    "Esto iniciará el motor de R dentro de Anaconda.\n",
    "\n",
    "Ahora vamos a instalar unos paquetes necesarios:\n",
    "\n",
    "- ```install.packages('IRkernel')```\n",
    "\n",
    "\n",
    "- ```update.packages()```\n",
    "\n",
    "Esto tomará algo de tiempo.\n",
    "\n",
    "Finalmente, \n",
    "\n",
    "- ```IRkernel::installspec()```\n",
    "\n",
    "Si todo marcha bien, no aparecerá ningún error."
   ]
  },
  {
   "cell_type": "markdown",
   "metadata": {},
   "source": [
    "# Instalación de IJulia\n",
    "\n",
    "En este caso, debemos ejecutar el ambiente gráfico de Julia (Llamado Atom).\n",
    "\n",
    "Dentro del ambiente, se ejecutarán\n",
    "\n",
    "- ```using Pkg```\n",
    "- ```Pkg.add(\"IJulia\")```\n",
    "- ```Pkg.build(\"IJulia\")```\n",
    "\n",
    "Si todo marcha bien, no deberá aparecer ningún error."
   ]
  },
  {
   "cell_type": "markdown",
   "metadata": {},
   "source": [
    "# Lista de kernels instalados\n",
    "\n",
    "La instalación de los kernels de Jupyter atraviesa todos los ambientes de trabajo, así que no hay que instalarlos para cada uno de ellos.\n",
    "\n",
    "Para ver la lista de Kernels instalados, se ejecuta en el Prompt de Anaconda:\n",
    "\n",
    "```conda kernelspec list```\n",
    "\n",
    "<img src=\"https://github.com/ucmadcursoPythonyR/2020/blob/master/images/kernelspec_list.png?raw=true\" />\n",
    "\n",
    "Hemos terminado, ahora sólo falta arrancar Jupyter e iniciar en nuestro kernel favorito!\n",
    "\n",
    "**Notas:** \n",
    "\n",
    "De aquí el nombre **Jupyter**: \n",
    "\n",
    "- **Ju**(Julia)\n",
    "- **Pyt**(Python)\n",
    "- **e**(et)\n",
    "- **r**(R)\n",
    "\n",
    "Por supuesto, se pueden instalar muchos otros kernels, por ejemplo GNU Octave (Versión libre de MATLAB), lo único que hay que hacer es seguir las guías online con mucha paciencia.\n",
    "\n",
    "![kernels](http://datahonor-1252464519.costj.myqcloud.com/201803/Screenshot%20from%202018-03-21%2011-22-42.png)\n",
    "![kernels2](https://miro.medium.com/max/3560/1*ENGFiVsAWmc_0NCGAjpzSg.png)\n"
   ]
  }
 ],
 "metadata": {
  "kernelspec": {
   "display_name": "R",
   "language": "R",
   "name": "ir"
  },
  "language_info": {
   "codemirror_mode": "r",
   "file_extension": ".r",
   "mimetype": "text/x-r-source",
   "name": "R",
   "pygments_lexer": "r",
   "version": "3.6.2"
  }
 },
 "nbformat": 4,
 "nbformat_minor": 4
}

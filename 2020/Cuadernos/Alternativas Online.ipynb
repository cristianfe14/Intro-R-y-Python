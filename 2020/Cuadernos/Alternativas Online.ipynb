{
 "cells": [
  {
   "cell_type": "markdown",
   "metadata": {},
   "source": [
    "# Alternativas Online\n",
    "**Universidad Central**\n",
    "\n",
    "*Carlos Isaac Zainea, Daniel Montenegro y Luis Campos*"
   ]
  },
  {
   "cell_type": "markdown",
   "metadata": {},
   "source": [
    "## Ejecución en la nube\n",
    "\n",
    "Una de las prácticas más comunes en esta época es tratar de tener la menor cantidad de datos en nuestros discos físicos, de hecho, la filosofia de alojar todo en la nube ha tomado bastante fuerza en los ultimos años. El *Cloud Computing* quizás se reconoce como uno de los paradigmas actuales de computación. Acorde a esa filosofía tenemos varias herramientas en la nube que nos permiten ejecutar código en Python y R usando cuadernos e Ides como la de R Studio. aquí mencionamos las tres alternativas Online para ejecutar código de R y Python en la nube.\n",
    "\n",
    "## [Google Colaboratory](https://colab.research.google.com/notebooks/welcome.ipynb)\n",
    "\n",
    "Colaboratory es un entorno de notebook de Jupyter gratuito que no requiere configuración y se ejecuta completamente en la nube. Permite ejecutar código, guardar y compartir análisis, y acceder a recursos informáticos potentes, desde el navegador. Adicionalmente, cuenta con un IDE amable y algunas extensiones que facilitan el ejercicio de programación, entre ellos completación inteligente de texto código, una vista simultanea para celdas Markdown, gran parte de los paquetes usados instalados, sincronizado sobre la nube, entre otros. \n",
    "\n",
    "<img src=\"https://github.com/ucmadcursoPythonyR/2020/blob/master/images/colaboratory.png?raw=true\"  width=\"720\" >\n",
    "\n",
    "## [RStudio Cloud](https://rstudio.cloud/)\n",
    "\n",
    "Una plataforma web con la que aloja todas las funcionalidades de R Studio. Mantiene la filosofia de crear proyectos y es fiel a la versión de R Studio del ordenador. Quizás una de las versiones interesantes en el momento de aprender R, con una guía de tutoriales para los primerizos: (https://rstudio.cloud/learn/primers).\n",
    "\n",
    "<img src=\"https://github.com/ucmadcursoPythonyR/2020/blob/master/images/rstudiocloud.png?raw=true\" width=\"720\" >\n",
    "\n",
    "## [Azure Notebooks](https://notebooks.azure.com/)\n",
    "\n",
    "De las tres alternativas esta permite crear cuadernos en Python y R. Igual que las anteriores es un servicio gratuito y su interfaz es muy fiel a Jupyter, si bien tiene algunas dificultades con la instalación de extensiones, los paquetes más usados ya vienen preinstalados. Es la alternativa online más completa para el analista de datos por tener acceso a núcleo de Python y R. Se accede con una cuenta de Microsoft.\n",
    "\n",
    "<img src=\"https://github.com/ucmadcursoPythonyR/2020/blob/master/images/azure.png?raw=true\" width=\"720\" >"
   ]
  }
 ],
 "metadata": {
  "kernelspec": {
   "display_name": "Python 3",
   "language": "python",
   "name": "python3"
  },
  "language_info": {
   "codemirror_mode": {
    "name": "ipython",
    "version": 3
   },
   "file_extension": ".py",
   "mimetype": "text/x-python",
   "name": "python",
   "nbconvert_exporter": "python",
   "pygments_lexer": "ipython3",
   "version": "3.7.4"
  }
 },
 "nbformat": 4,
 "nbformat_minor": 4
}
